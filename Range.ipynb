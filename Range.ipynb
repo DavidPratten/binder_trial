{
 "cells": [
  {
   "cell_type": "code",
   "execution_count": 2,
   "outputs": [],
   "source": [
    "%reload_ext jetisu.query_idr_magic"
   ],
   "metadata": {
    "collapsed": false
   }
  },
  {
   "cell_type": "code",
   "execution_count": 4,
   "outputs": [
    {
     "data": {
      "text/plain": "<IPython.core.display.Markdown object>",
      "text/markdown": "|from_start|to_stop|n|nth|nth_value|\n|----|----|----|----|----|\n|10.0|20.0|5.0|0|10|\n|10.0|20.0|5.0|1|12.5|\n|10.0|20.0|5.0|2|15|\n|10.0|20.0|5.0|3|17.5|\n|10.0|20.0|5.0|4|20|"
     },
     "metadata": {},
     "output_type": "display_data"
    }
   ],
   "source": [
    "%%query_idr\n",
    "select * from range where N=5 and From_Start=10 and To_Stop = 20;"
   ],
   "metadata": {
    "collapsed": false
   }
  },
  {
   "cell_type": "code",
   "execution_count": 5,
   "outputs": [
    {
     "data": {
      "text/plain": "<IPython.core.display.Markdown object>",
      "text/markdown": "|from_start|to_stop|n|nth|nth_value|\n|----|----|----|----|----|\n|15|20.0|5.0|0|15.0|\n|13.3333333333|20.0|5.0|1|15.0|\n|10|20.0|5.0|2|15.0|\n|0|20.0|5.0|3|15.0|"
     },
     "metadata": {},
     "output_type": "display_data"
    }
   ],
   "source": [
    "%%query_idr\n",
    "\n",
    "\n",
    "select * from range where N=5 and To_Stop = 20 and nth_Value=15.0;"
   ],
   "metadata": {
    "collapsed": false
   }
  },
  {
   "cell_type": "code",
   "execution_count": 6,
   "outputs": [
    {
     "data": {
      "text/plain": "<IPython.core.display.Markdown object>",
      "text/markdown": "```\n\npredicate range(var float: from_start,\n                var float: to_stop,\n                var int: n,\n                var int: nth,\n                var float: nth_value) =\nlet {\n  constraint n > 0;\n  constraint 0 <= nth /\\ nth <= n-1;\n  constraint nth_value = from_start + (to_stop-from_start) / (n-1) * nth ;\n} in true;\n```"
     },
     "metadata": {},
     "output_type": "display_data"
    }
   ],
   "source": [
    "%%show_idr\n",
    "\n",
    "range"
   ],
   "metadata": {
    "collapsed": false
   }
  },
  {
   "cell_type": "code",
   "execution_count": 11,
   "outputs": [],
   "source": [],
   "metadata": {
    "collapsed": false
   }
  }
 ],
 "metadata": {
  "kernelspec": {
   "display_name": "Python 3",
   "language": "python",
   "name": "python3"
  },
  "language_info": {
   "codemirror_mode": {
    "name": "ipython",
    "version": 2
   },
   "file_extension": ".py",
   "mimetype": "text/x-python",
   "name": "python",
   "nbconvert_exporter": "python",
   "pygments_lexer": "ipython2",
   "version": "2.7.6"
  }
 },
 "nbformat": 4,
 "nbformat_minor": 0
}
