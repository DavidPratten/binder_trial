{
 "cells": [
  {
   "cell_type": "markdown",
   "source": [
    "# Australian Capital Territory (ACT) Conveyance Duty\n",
    "\n",
    "The following is an intensionally defined relation that captures the\n",
    "relationship between price and [conveyance duty in the ACT from 1 July\n",
    "2022](https://www.revenue.act.gov.au/duties/conveyance-duty). The duty\n",
    "payable depends firstly on whether the purchase is non-commercial or\n",
    "commercial and secondly, if non-commercial, whether the purchase is by\n",
    "an owner occupier. The definition is written in\n",
    "[MiniZinc](https://www.minizinc.org/).\n",
    "\n",
    "Callouts from this example include:\n",
    "\n",
    "  - the effort in capturing this calculation is of the same order as\n",
    "    using a procedural or functional language, however the\n",
    "    `ACT_Conveyance_Duty` intensionally defined relation has a bigger\n",
    "    \"pay-off\". It is queryable in any direction, just like an ordinary\n",
    "    database table\n",
    "\n",
    "  - the usage of an intensionally defined relation `units` in the\n",
    "    definition of `ACT_Conveyance_Duty`. This is a reusable relation\n",
    "    that captures the idea of converting a value to a number of units, whether full or partial.\n",
    "\n",
    "The the `ACT_Conveyance_Duty` intensionally defined relation has the\n",
    "following attributes\n",
    "\n",
    "```\n",
    "\n",
    "    ACT_Conveyance_Duty(var bool: non_commercial,\n",
    "                        var bool: eligible_owner_occupier,\n",
    "                        var int:price,\n",
    "                        var float:duty)\n",
    "\n",
    "```\n",
    "\n",
    "and the full definition in MiniZinc is shown at the end of this\n",
    "appendix.\n",
    "\n",
    "## Querying the Conveyancing Rules\n",
    "\n",
    "Here is a selection of queries that demonstrate the number of different\n",
    "insights the intensionally defined relation can provide.\n",
    "\n"
   ],
   "metadata": {
    "collapsed": false
   }
  },
  {
   "cell_type": "code",
   "execution_count": 1,
   "outputs": [],
   "source": [
    "%reload_ext jetisu.query_idr_magic"
   ],
   "metadata": {
    "collapsed": false
   }
  },
  {
   "cell_type": "markdown",
   "source": [
    "### How much duty for a home occupier on a house of $1.2M?\n",
    "\n",
    "This query gives the answer of $47,590.\n"
   ],
   "metadata": {
    "collapsed": false
   }
  },
  {
   "cell_type": "code",
   "execution_count": 2,
   "outputs": [
    {
     "name": "stdout",
     "output_type": "stream",
     "text": [
      "def test_idr_d750d38a4a():\n",
      "    res = idr_query(\"\"\"select price, duty from ACT_Conveyance_Duty where price = 1200000 and eligible_owner_occupier;\n",
      "\"\"\", True)\n",
      "    assert sorted_res(res) == sorted_res((('price', 'duty'), [(1200000.0, 47590)]))\n"
     ]
    }
   ],
   "source": [
    "%%query_test\n",
    "select price, duty from ACT_Conveyance_Duty where price = 1200000 and eligible_owner_occupier;"
   ],
   "metadata": {
    "collapsed": false
   }
  },
  {
   "cell_type": "markdown",
   "source": [
    "### How much duty for a non\\_commercial property valued at of $1.2M?\n",
    "\n",
    "This query shows that there are two classes of non-commercial property transactions, and the duty payable for each case.\n"
   ],
   "metadata": {
    "collapsed": false
   }
  },
  {
   "cell_type": "code",
   "execution_count": 3,
   "outputs": [
    {
     "name": "stdout",
     "output_type": "stream",
     "text": [
      "def test_idr_65378a8e35():\n",
      "    res = idr_query(\"\"\"select eligible_owner_occupier, duty\n",
      "    from ACT_Conveyance_Duty\n",
      "    where price = 1200000 and non_commercial;\n",
      "\"\"\", True)\n",
      "    assert sorted_res(res) == sorted_res((('eligible_owner_occupier', 'duty'), [(True, 47590), (False, 49750)]))\n"
     ]
    }
   ],
   "source": [
    "%%query_test\n",
    "select eligible_owner_occupier, duty\n",
    "    from ACT_Conveyance_Duty\n",
    "    where price = 1200000 and non_commercial;"
   ],
   "metadata": {
    "collapsed": false
   }
  },
  {
   "cell_type": "markdown",
   "source": [
    "### How much duty is chargeable for a property valued at $1.2M?\n",
    "\n",
    "This query shows the comparative conveyancing duty across the various pricing\n",
    "regimes. Notice that the IDR has deduced and is reporting that there are\n",
    "*three* categories of payers."
   ],
   "metadata": {
    "collapsed": false
   }
  },
  {
   "cell_type": "code",
   "execution_count": 4,
   "outputs": [
    {
     "name": "stdout",
     "output_type": "stream",
     "text": [
      "def test_idr_347d205d95():\n",
      "    res = idr_query(\"\"\"\n",
      "select * from ACT_Conveyance_Duty where price = 1200000;\n",
      "\n",
      "\"\"\", True)\n",
      "    assert sorted_res(res) == sorted_res((('non_commercial', 'eligible_owner_occupier', 'duty', 'price'), [(False, False, 0, 1200000.0), (True, True, 47590, 1200000.0), (True, False, 49750, 1200000.0)]))\n"
     ]
    }
   ],
   "source": [
    "%%query_test\n",
    "\n",
    "select * from ACT_Conveyance_Duty where price = 1200000;\n"
   ],
   "metadata": {
    "collapsed": false
   }
  },
  {
   "cell_type": "markdown",
   "source": [
    "### How much duty is chargeable for a property valued at $2M?\n",
    "\n",
    "This query shows the convergence of the owner occupied and non-occupied regimes at\n",
    "higher prices."
   ],
   "metadata": {
    "collapsed": false
   }
  },
  {
   "cell_type": "code",
   "execution_count": 5,
   "outputs": [
    {
     "name": "stdout",
     "output_type": "stream",
     "text": [
      "def test_idr_689c1ce3d5():\n",
      "    res = idr_query(\"\"\"\n",
      "select * from ACT_Conveyance_Duty where price = 2000000;\n",
      "\n",
      "\"\"\", True)\n",
      "    assert sorted_res(res) == sorted_res((('non_commercial', 'eligible_owner_occupier', 'duty', 'price'), [(True, True, 90800, 2000000.0), (True, False, 90800, 2000000.0), (False, False, 100000, 2000000.0)]))\n"
     ]
    }
   ],
   "source": [
    "%%query_test\n",
    "\n",
    "select * from ACT_Conveyance_Duty where price = 2000000;\n"
   ],
   "metadata": {
    "collapsed": false
   }
  },
  {
   "cell_type": "markdown",
   "source": [
    "### An owner occupier pays $50,150 in conveyancing duty. What is the corresponding house price?\n",
    "\n",
    "This query shows that there is more than one possible price that gives a duty value\n",
    "of $50,150. The IDR has deduced that there are 100 such values and\n",
    "reports them."
   ],
   "metadata": {
    "collapsed": false
   }
  },
  {
   "cell_type": "code",
   "execution_count": 6,
   "outputs": [
    {
     "name": "stdout",
     "output_type": "stream",
     "text": [
      "def test_idr_4ab4e9269f():\n",
      "    res = idr_query(\"\"\"\n",
      "select price from ACT_Conveyance_Duty where duty = 50150 and eligible_owner_occupier;\n",
      "\n",
      "\"\"\", True)\n",
      "    assert sorted_res(res) == sorted_res((('price',), [(1240000,), (1239901,), (1239902,), (1239903,), (1239904,), (1239905,), (1239906,), (1239907,), (1239908,), (1239909,), (1239910,), (1239911,), (1239912,), (1239913,), (1239914,), (1239915,), (1239916,), (1239917,), (1239918,), (1239919,), (1239920,), (1239921,), (1239922,), (1239923,), (1239924,), (1239925,), (1239926,), (1239927,), (1239928,), (1239929,), (1239930,), (1239931,), (1239932,), (1239933,), (1239934,), (1239935,), (1239936,), (1239937,), (1239938,), (1239939,), (1239940,), (1239941,), (1239942,), (1239943,), (1239944,), (1239945,), (1239946,), (1239947,), (1239948,), (1239949,), (1239950,), (1239951,), (1239952,), (1239953,), (1239954,), (1239955,), (1239956,), (1239957,), (1239958,), (1239959,), (1239960,), (1239961,), (1239962,), (1239963,), (1239964,), (1239965,), (1239966,), (1239967,), (1239968,), (1239969,), (1239970,), (1239971,), (1239972,), (1239973,), (1239974,), (1239975,), (1239976,), (1239977,), (1239978,), (1239979,), (1239980,), (1239981,), (1239982,), (1239983,), (1239984,), (1239985,), (1239986,), (1239987,), (1239988,), (1239989,), (1239990,), (1239991,), (1239992,), (1239993,), (1239994,), (1239995,), (1239996,), (1239997,), (1239998,), (1239999,)]))\n"
     ]
    }
   ],
   "source": [
    "%%query_test\n",
    "\n",
    "select price from ACT_Conveyance_Duty where duty = 50150 and eligible_owner_occupier;\n"
   ],
   "metadata": {
    "collapsed": false
   }
  },
  {
   "cell_type": "markdown",
   "source": [
    "### A property owner pays $140,740 in conveyancing duty. What are the corresponding property prices?\n",
    "\n",
    "This query shows the price ranges across the three regimes."
   ],
   "metadata": {
    "collapsed": false
   }
  },
  {
   "cell_type": "code",
   "execution_count": 7,
   "outputs": [
    {
     "name": "stdout",
     "output_type": "stream",
     "text": [
      "def test_idr_fe0f141905():\n",
      "    res = idr_query(\"\"\"\n",
      "select non_commercial,\n",
      "    eligible_owner_occupier,\n",
      "    min(price) min_price,\n",
      "    max(price) max_price\n",
      "from ACT_Conveyance_Duty\n",
      "where duty = 140740\n",
      "group by non_commercial,\n",
      "    eligible_owner_occupier;\n",
      "\n",
      "\"\"\", True)\n",
      "    assert sorted_res(res) == sorted_res((('non_commercial', 'eligible_owner_occupier', 'min_price', 'max_price'), [(False, False, 2814701, 2814800), (True, False, 3099901, 3100000), (True, True, 3099901, 3100000)]))\n"
     ]
    }
   ],
   "source": [
    "%%query_test\n",
    "\n",
    "select non_commercial,\n",
    "    eligible_owner_occupier,\n",
    "    min(price) min_price,\n",
    "    max(price) max_price\n",
    "from ACT_Conveyance_Duty\n",
    "where duty = 140740\n",
    "group by non_commercial,\n",
    "    eligible_owner_occupier;\n"
   ],
   "metadata": {
    "collapsed": false
   }
  },
  {
   "cell_type": "markdown",
   "source": [
    "### Definition\n",
    "Here is the definition of the ```ACT_Conveyance_Duty``` intensionally defined relation."
   ],
   "metadata": {
    "collapsed": false
   }
  },
  {
   "cell_type": "code",
   "execution_count": 8,
   "outputs": [
    {
     "data": {
      "text/plain": "<IPython.core.display.Markdown object>",
      "text/markdown": "```\n\npredicate units(var int:amount, \n                var int:unit_size, \n                var bool: round_up, \n                var int:units ) = \nlet {\n  constraint units = amount div unit_size + if round_up then amount mod unit_size > 0 else 0 endif;\n} in true;\n\n\n\npredicate act_conveyance_duty(var bool: non_commercial, \n                              var bool: eligible_owner_occupier, \n                              var int:price, \n                              var float:duty) = \nlet {\n  constraint eligible_owner_occupier -> non_commercial;\n  constraint price >= 0;\n  constraint duty >= 0;\n  var int: num_units;\n  int: unit = 100;\n  constraint duty = \n  if non_commercial then\n    if eligible_owner_occupier then\n      if price > 0       /\\ price <=260000  \n          /\\ units(price, unit, true, num_units) then num_units * 60 else \n      if price > 260000  /\\ price <=300000  \n          /\\ units(price-260000, unit, true, num_units)  then 1560.00  + num_units * 2.20 else \n      if price > 300000  /\\ price <=500000  \n          /\\ units(price-300000, unit, true, num_units)  then 2440.00  + num_units * 3.40 else \n      if price > 500000  /\\ price <=750000  \n          /\\ units(price-500000, unit, true, num_units)  then 9240.00  + num_units * 4.32 else \n      if price > 750000  /\\ price <=1000000 \n          /\\ units(price-750000, unit, true, num_units)  then 20040.00 + num_units * 5.90 else \n      if price > 1000000 /\\ price <=1455000 \n          /\\ units(price-1000000, unit, true, num_units) then 34790.00 + num_units * 6.40 else \n      if price > 1445000                    \n          /\\ units(price, unit, true, num_units) then num_units * 4.54 \n      else -1 endif endif endif endif endif endif endif\n    else % not eligible_owner_occupier\n      if price > 0       /\\ price <=200000  \n          /\\ units(price, unit, true, num_units)         then num_units * 120 else \n      if price > 200000  /\\ price <=300000  \n          /\\ units(price-200000, unit, true, num_units)  then 2400.00  + num_units * 2.20 else \n      if price > 300000  /\\ price <=500000  \n          /\\ units(price-300000, unit, true, num_units)  then 4600.00  + num_units * 3.40 else \n      if price > 500000  /\\ price <=750000  \n          /\\ units(price-500000, unit, true, num_units)  then 11400.00 + num_units * 4.32 else \n      if price > 750000  /\\ price <=1000000 \n          /\\ units(price-750000, unit, true, num_units)  then 22200.00 + num_units * 5.90 else \n      if price > 1000000 /\\ price <=1455000 \n          /\\ units(price-1000000, unit, true, num_units) then 36950.00 + num_units * 6.40 else \n      if price > 1445000                    \n          /\\ units(price, unit, true, num_units)         then num_units * 4.54 \n      else -1 endif endif endif endif endif endif endif\n    endif\n  else % commercial\n    if price > 0         /\\ price <= 1700000 then 0 else\n    if price > 1700000                      \n          /\\ units(price, unit, true, num_units)         then num_units * 5.00 else -1 endif endif\n  endif\n} \nin true;\n\n\n\n\n```"
     },
     "metadata": {},
     "output_type": "display_data"
    }
   ],
   "source": [
    "%%show_idr\n",
    "ACT_Conveyance_Duty"
   ],
   "metadata": {
    "collapsed": false
   }
  },
  {
   "cell_type": "code",
   "execution_count": 8,
   "outputs": [],
   "source": [],
   "metadata": {
    "collapsed": false
   }
  }
 ],
 "metadata": {
  "kernelspec": {
   "display_name": "Python 3",
   "language": "python",
   "name": "python3"
  },
  "language_info": {
   "codemirror_mode": {
    "name": "ipython",
    "version": 2
   },
   "file_extension": ".py",
   "mimetype": "text/x-python",
   "name": "python",
   "nbconvert_exporter": "python",
   "pygments_lexer": "ipython2",
   "version": "2.7.6"
  }
 },
 "nbformat": 4,
 "nbformat_minor": 0
}
