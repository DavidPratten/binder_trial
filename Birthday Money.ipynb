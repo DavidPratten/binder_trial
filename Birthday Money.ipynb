{
 "cells": [
  {
   "cell_type": "code",
   "execution_count": 1,
   "metadata": {
    "collapsed": true
   },
   "outputs": [],
   "source": [
    "%reload_ext jetisu.query_idr_magic"
   ]
  },
  {
   "cell_type": "code",
   "execution_count": 2,
   "outputs": [
    {
     "data": {
      "text/plain": "<IPython.core.display.Markdown object>",
      "text/markdown": "```\n\npredicate standard_birthday_money(\n        var int: age,\n        var float: birthday_money) =\nlet {\n    constraint birthday_money = age*10.00; % constraints express a relationship\n} in true;\n\n        var int: age;\n        var float: birthday_money;\nconstraint standard_birthday_money( age,  birthday_money);\n age = 10;\n```"
     },
     "metadata": {},
     "output_type": "display_data"
    }
   ],
   "source": [
    "%%show_constrained_idr\n",
    "select * from standard_birthday_money where age = 10;"
   ],
   "metadata": {
    "collapsed": false
   }
  },
  {
   "cell_type": "code",
   "execution_count": 4,
   "outputs": [
    {
     "data": {
      "text/plain": "<IPython.core.display.Markdown object>",
      "text/markdown": "```\n\npredicate new_birthday_money(\n    var int: age,\n    var bool: good_behaviour,\n    var float: birthday_money) =\nlet {\n    constraint birthday_money = if good_behaviour then age*20.00 else 0.00 endif\n} in true;\n\n    var int: age;\n    var bool: good_behaviour;\n    var float: birthday_money;\nconstraint new_birthday_money( age,  good_behaviour,  birthday_money);\n age = 10 ;  good_behaviour= true;\n```"
     },
     "metadata": {},
     "output_type": "display_data"
    }
   ],
   "source": [
    "%%show_constrained_idr\n",
    "select * from new_birthday_money where age = 10 and good_behaviour;"
   ],
   "metadata": {
    "collapsed": false
   }
  },
  {
   "cell_type": "code",
   "execution_count": null,
   "outputs": [],
   "source": [],
   "metadata": {
    "collapsed": false
   }
  }
 ],
 "metadata": {
  "kernelspec": {
   "display_name": "Python 3",
   "language": "python",
   "name": "python3"
  },
  "language_info": {
   "codemirror_mode": {
    "name": "ipython",
    "version": 2
   },
   "file_extension": ".py",
   "mimetype": "text/x-python",
   "name": "python",
   "nbconvert_exporter": "python",
   "pygments_lexer": "ipython2",
   "version": "2.7.6"
  }
 },
 "nbformat": 4,
 "nbformat_minor": 0
}
